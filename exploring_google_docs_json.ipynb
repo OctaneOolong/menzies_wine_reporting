{
 "cells": [
  {
   "cell_type": "code",
   "execution_count": 16,
   "metadata": {},
   "outputs": [],
   "source": [
    "from __future__ import print_function\n",
    "\n",
    "from google_api_service_getters.google_docs_service_getter import google_docs_service_getter\n",
    "\n",
    "import json\n",
    "\n",
    "import os"
   ]
  },
  {
   "cell_type": "code",
   "execution_count": 17,
   "metadata": {},
   "outputs": [],
   "source": [
    "def section_idx_getter(doc_content, target_section):\n",
    "\n",
    "    heading_dict = {}\n",
    "\n",
    "    for i in range(len(doc_content)):\n",
    "        if \"paragraph\" in doc_content[i].keys() and \"HEADING\" in doc_content[i][\"paragraph\"][\"paragraphStyle\"][\"namedStyleType\"]:\n",
    "            \n",
    "            heading = doc_content[i][\"paragraph\"][\"elements\"][0][\"textRun\"][\"content\"].strip()\n",
    "            \n",
    "            heading_dict[heading] = i\n",
    "            \n",
    "            print(\"The following is the idx values of each heading in the document content list, not their start and stop indexes\")\n",
    "\n",
    "            print(\"{}\".format(i) + \" \" + heading)\n",
    "\n",
    "    target_section = \"LOW BTB\"\n",
    "\n",
    "    start_idx = heading_dict[target_section]\n",
    "\n",
    "    end_idx = heading_dict[\n",
    "                        list(heading_dict.keys())\n",
    "                            [\n",
    "                                list(heading_dict.keys()).index(target_section)+1]\n",
    "                                ]-1\n",
    "    \n",
    "    return start_idx, end_idx"
   ]
  },
  {
   "cell_type": "code",
   "execution_count": 18,
   "metadata": {},
   "outputs": [
    {
     "ename": "NameError",
     "evalue": "name 'os' is not defined",
     "output_type": "error",
     "traceback": [
      "\u001b[0;31m---------------------------------------------------------------------------\u001b[0m",
      "\u001b[0;31mNameError\u001b[0m                                 Traceback (most recent call last)",
      "Cell \u001b[0;32mIn[18], line 5\u001b[0m\n\u001b[1;32m      1\u001b[0m \u001b[39m# menzies_bar_oos_test doc \u001b[39;00m\n\u001b[1;32m      3\u001b[0m doc_id \u001b[39m=\u001b[39m \u001b[39m\"\u001b[39m\u001b[39m1Iyy3ltWTNkEk45fP5rD7efiXG1kJlmTYehauf100DqY\u001b[39m\u001b[39m\"\u001b[39m\n\u001b[0;32m----> 5\u001b[0m service \u001b[39m=\u001b[39m google_docs_service_getter()\n",
      "File \u001b[0;32m~/menzies_wine_stock_app_venv/google_api_service_getters/google_docs_service_getter.py:15\u001b[0m, in \u001b[0;36mgoogle_docs_service_getter\u001b[0;34m()\u001b[0m\n\u001b[1;32m     11\u001b[0m creds \u001b[39m=\u001b[39m \u001b[39mNone\u001b[39;00m\n\u001b[1;32m     12\u001b[0m \u001b[39m# The file token.json stores the user's access and refresh tokens, and is\u001b[39;00m\n\u001b[1;32m     13\u001b[0m \u001b[39m# created automatically when the authorization flow completes for the first\u001b[39;00m\n\u001b[1;32m     14\u001b[0m \u001b[39m# time.\u001b[39;00m\n\u001b[0;32m---> 15\u001b[0m \u001b[39mif\u001b[39;00m os\u001b[39m.\u001b[39mpath\u001b[39m.\u001b[39mexists(\u001b[39m'\u001b[39m\u001b[39mtoken_docs.json\u001b[39m\u001b[39m'\u001b[39m):\n\u001b[1;32m     16\u001b[0m     creds \u001b[39m=\u001b[39m Credentials\u001b[39m.\u001b[39mfrom_authorized_user_file(\u001b[39m'\u001b[39m\u001b[39mtoken_docs.json\u001b[39m\u001b[39m'\u001b[39m, SCOPES)\n\u001b[1;32m     17\u001b[0m \u001b[39m# If there are no (valid) credentials available, let the user log in.\u001b[39;00m\n",
      "\u001b[0;31mNameError\u001b[0m: name 'os' is not defined"
     ]
    }
   ],
   "source": [
    "# menzies_bar_oos_test doc \n",
    "\n",
    "doc_id = \"1Iyy3ltWTNkEk45fP5rD7efiXG1kJlmTYehauf100DqY\"\n",
    "\n",
    "service = google_docs_service_getter()"
   ]
  },
  {
   "attachments": {},
   "cell_type": "markdown",
   "metadata": {},
   "source": [
    "Retrieve the documents contents from the Docs service."
   ]
  },
  {
   "cell_type": "code",
   "execution_count": null,
   "metadata": {},
   "outputs": [
    {
     "name": "stderr",
     "output_type": "stream",
     "text": [
      "<>:12: SyntaxWarning: list indices must be integers or slices, not str; perhaps you missed a comma?\n",
      "<>:12: SyntaxWarning: list indices must be integers or slices, not str; perhaps you missed a comma?\n"
     ]
    },
    {
     "ename": "NameError",
     "evalue": "name 'service' is not defined",
     "output_type": "error",
     "traceback": [
      "\u001b[0;31m---------------------------------------------------------------------------\u001b[0m",
      "\u001b[0;31mNameError\u001b[0m                                 Traceback (most recent call last)",
      "Cell \u001b[0;32mIn[9], line 1\u001b[0m\n\u001b[0;32m----> 1\u001b[0m doc \u001b[39m=\u001b[39m service\u001b[39m.\u001b[39mdocuments()\u001b[39m.\u001b[39mget(documentId\u001b[39m=\u001b[39mdoc_id)\u001b[39m.\u001b[39mexecute()\n\u001b[1;32m      3\u001b[0m \u001b[39m# The content list has a length of 98.\u001b[39;00m\n\u001b[1;32m      5\u001b[0m doc_content \u001b[39m=\u001b[39m doc[\u001b[39m\"\u001b[39m\u001b[39mbody\u001b[39m\u001b[39m\"\u001b[39m][\u001b[39m\"\u001b[39m\u001b[39mcontent\u001b[39m\u001b[39m\"\u001b[39m]\n",
      "\u001b[0;31mNameError\u001b[0m: name 'service' is not defined"
     ]
    }
   ],
   "source": [
    "doc = service.documents().get(documentId=doc_id).execute()\n",
    "\n",
    "# The content list has a length of 98.\n",
    "\n",
    "doc_content = doc[\"body\"][\"content\"]\n",
    "\n",
    "section_idx_getter(doc_content, target_section=\"LOW BTB\")\n",
    "\n",
    "for i in range(len(doc[\"body\"][\"content\"])):\n",
    "    print(i)\n",
    "    print(doc[\"body\"][\"content\"][i])\n",
    "    ['paragraph']['elements'][0]['textRun']['content']\n",
    "\n",
    "print(doc[\"body\"][\"content\"][-24]['paragraph']['elements'][0]['textRun']['content'])\n",
    "\n",
    "#doc[\"body\"][\"content\"][-20]['paragraph']['elements'][0]['textRun']['content']=\"hello world!\"\n",
    "\n",
    "for i in range(10, len(doc[\"body\"][\"content\"])):\n",
    "    print(-i)\n",
    "    print(doc[\"body\"][\"content\"][-i][\"paragraph\"]['elements'][0]['textRun']['content'])\n",
    "\n",
    "print(doc[\"body\"][\"content\"][0])"
   ]
  },
  {
   "attachments": {},
   "cell_type": "markdown",
   "metadata": {},
   "source": [
    "Identify which items in the content list do not contain the paragraph field."
   ]
  },
  {
   "cell_type": "code",
   "execution_count": null,
   "metadata": {},
   "outputs": [],
   "source": [
    "content = doc[\"body\"][\"content\"]\n",
    "\n",
    "for count, i in enumerate(content):\n",
    "    if \"paragraph\" not in i.keys():\n",
    "        print(count)\n",
    "        print(i)\n",
    "\n",
    "# So items 0 and 9 specifically do not contain the \"paragraph\" field. Why? What does the 'content' field contain? We can understand this by observing the start and end indexes.\n",
    "\n",
    "for i in range(2):\n",
    "    print(i)\n",
    "    print(json.dumps(content[i], indent=4))"
   ]
  },
  {
   "cell_type": "markdown",
   "metadata": {},
   "source": [
    "The start and end indexes are as though all of the text characters (including whitespace) exist in a 1D array. Adding text to the end will increase the highest value of \"endIndex\". Inserting text in the middle will increase both the startIndex and endIndex for all items in the content list after the insertion point.\n",
    "\n",
    "To find the section, we need to locate the headers. The headers are identified by the document.body.content.paragraph.paragraphStyle.namedStyleType field. The content of the headers is contained in the document.body.content.paragraph.elements[] list, and the start and end indexes can be found under document.body.content.startIndex and document.body.content.endIndex respectively. To find all the headers we can:\n",
    "\n"
   ]
  },
  {
   "cell_type": "code",
   "execution_count": null,
   "metadata": {},
   "outputs": [],
   "source": [
    "for i in range(len(content)):\n",
    "    if \"paragraph\" in content[i].keys() and \"HEADING\" in content[i][\"paragraph\"][\"paragraphStyle\"][\"namedStyleType\"]:\n",
    "        print(i)\n",
    "        print(json.dumps(content[i], indent=4))\n",
    "\n",
    "# The below block of code constructs a list of the section heading strings, stripping them of whitespace characters. repr() is used to print white space characters.\n",
    "\n",
    "heading_dict = {}\n"
   ]
  },
  {
   "cell_type": "code",
   "execution_count": null,
   "metadata": {},
   "outputs": [],
   "source": [
    "# and if we copy the above loop, targeting the titles instead:\n",
    "\n",
    "for i in range(len(doc_content)):\n",
    "    if \"paragraph\" in doc_content[i].keys() and \"HEADING\" in doc_content[i][\"paragraph\"][\"paragraphStyle\"][\"namedStyleType\"]:\n",
    "        \n",
    "        heading = doc_content[i][\"paragraph\"][\"elements\"][0][\"textRun\"][\"content\"].strip()\n",
    "        \n",
    "        heading_dict[heading] = i\n",
    "\n",
    "print(heading_dict)\n"
   ]
  },
  {
   "cell_type": "code",
   "execution_count": null,
   "metadata": {},
   "outputs": [],
   "source": [
    "# To control the text of a section, we need to know where it starts and where it finishes. A section begins at the index of the content list the heading is in, and ends at i-1 of the title following. Assembling a dictionary with \"title\" \"content_idx\" could be the way to go:\n",
    "\n",
    "print(section_dict)\n",
    "\n"
   ]
  },
  {
   "cell_type": "code",
   "execution_count": null,
   "metadata": {},
   "outputs": [],
   "source": [
    "# now we want to use the dict ot get the content idx then iterate through the content list printing the textRun content of each line IF they are not whitespace, until the next heading.\n",
    "\n",
    "target_section = \"LOW BTB\"\n",
    "\n",
    "start_idx = heading_dict[target_section]"
   ]
  },
  {
   "cell_type": "code",
   "execution_count": null,
   "metadata": {},
   "outputs": [],
   "source": [
    "# Because I cannot easily iterate through the dict by 1 advancement, the complicated expresion below converts the keys() to a list then gets the index of the target section and puts that back into the keys() list to move 1 item forward, then get the content index of that line. Since we actually want the line before, we will subtract 1 from that value.\n",
    "\n",
    "end_idx = heading_dict[\n",
    "                        list(heading_dict.keys())\n",
    "                            [\n",
    "                                list(heading_dict.keys()).index(target_section)+1]\n",
    "                                ]-1\n",
    "\n",
    "print(end_idx)"
   ]
  },
  {
   "cell_type": "code",
   "execution_count": null,
   "metadata": {},
   "outputs": [],
   "source": [
    "# remembering that the accessor for the text is of the form content[content_idx][\"paragraph\"][\"elements\"][0][\"textRun\"][\"content\"]. To make it easier, define a short function to iterate through the content_idx position while leaving the rest of the accessors as a template:\n",
    "\n",
    "def content_text(content_idx):\n",
    "    return doc_content[content_idx][\"paragraph\"][\"elements\"][0][\"textRun\"][\"content\"]\n",
    "\n",
    "for i in range(start_idx, end_idx):\n",
    "    if not content_text(i).isspace():\n",
    "        print(content_text(i).strip())"
   ]
  }
 ],
 "metadata": {
  "kernelspec": {
   "display_name": "Python 3",
   "language": "python",
   "name": "python3"
  },
  "language_info": {
   "codemirror_mode": {
    "name": "ipython",
    "version": 3
   },
   "file_extension": ".py",
   "mimetype": "text/x-python",
   "name": "python",
   "nbconvert_exporter": "python",
   "pygments_lexer": "ipython3",
   "version": "3.11.1 (main, Jan 19 2023, 14:14:28) [Clang 14.0.0 (clang-1400.0.29.202)]"
  },
  "orig_nbformat": 4,
  "vscode": {
   "interpreter": {
    "hash": "27c46f4eb3a1e072bb472673e0f5bc67d135295985dc85bce54a4088e8c57ef4"
   }
  }
 },
 "nbformat": 4,
 "nbformat_minor": 2
}
